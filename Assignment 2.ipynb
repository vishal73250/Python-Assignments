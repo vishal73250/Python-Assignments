{
 "cells": [
  {
   "cell_type": "code",
   "execution_count": 13,
   "id": "067e4468",
   "metadata": {},
   "outputs": [
    {
     "name": "stdout",
     "output_type": "stream",
     "text": [
      "[2, 3, 5, 4, 6]\n"
     ]
    }
   ],
   "source": [
    "a = [2, 3, 3, 2, 5, 4, 4, 6]\n",
    " \n",
    "b = []\n",
    " \n",
    "for i in a:\n",
    "    if i not in b:\n",
    "        b.append(i)\n",
    " \n",
    "print(b)"
   ]
  },
  {
   "cell_type": "code",
   "execution_count": 1,
   "id": "79108525",
   "metadata": {},
   "outputs": [
    {
     "name": "stdout",
     "output_type": "stream",
     "text": [
      "{'a': 400, 'b': 400, 'c': 300, 'd': 400}\n"
     ]
    }
   ],
   "source": [
    "d1 = {'a': 100, 'b': 200, 'c': 300}\n",
    "d2 = {'a': 300, 'b': 200, 'd': 400}\n",
    "\n",
    "for i in d2 :\n",
    "    if i in d1 :\n",
    "        d1[ i ] = d1[ i ] +d2[ i ]\n",
    "    else :\n",
    "        d1[ i ] = d2[ i ]\n",
    "print(d1)"
   ]
  },
  {
   "cell_type": "code",
   "execution_count": 2,
   "id": "093a171b",
   "metadata": {},
   "outputs": [
    {
     "name": "stdout",
     "output_type": "stream",
     "text": [
      "geeks\n"
     ]
    }
   ],
   "source": [
    "def convertTuple(tup):  #Q 3\n",
    "    str = ''.join(tup)\n",
    "    return str\n",
    "\n",
    "tuple = ('g', 'e', 'e', 'k', 's')\n",
    "str = convertTuple(tuple)\n",
    "print(str)"
   ]
  },
  {
   "cell_type": "code",
   "execution_count": 10,
   "id": "b60de442",
   "metadata": {},
   "outputs": [
    {
     "name": "stdout",
     "output_type": "stream",
     "text": [
      "Updated language set: {'French', 'English'}\n"
     ]
    }
   ],
   "source": [
    "item = {'English', 'French', 'German'} # Q 4\n",
    "\n",
    "item.remove('German')\n",
    "\n",
    "print('Updated language set:', item)"
   ]
  },
  {
   "cell_type": "code",
   "execution_count": 11,
   "id": "6a9d5189",
   "metadata": {},
   "outputs": [
    {
     "name": "stdout",
     "output_type": "stream",
     "text": [
      "{'b', 'a', 'e'}\n",
      "{'b', 'a', 'e'}\n",
      "{'b', 'd', 'a', 'c'}\n",
      "{'d', 'e', 'c'}\n"
     ]
    }
   ],
   "source": [
    "A = {'a', 'b', 'c', 'd'}  # Q 5\n",
    "B = {'c', 'd', 'e' }\n",
    "C = {}\n",
    "\n",
    "print(A.symmetric_difference(B))\n",
    "print(B.symmetric_difference(A))\n",
    "\n",
    "print(A.symmetric_difference(C))\n",
    "print(B.symmetric_difference(C))"
   ]
  },
  {
   "cell_type": "code",
   "execution_count": 12,
   "id": "8cb23049",
   "metadata": {},
   "outputs": [
    {
     "name": "stdout",
     "output_type": "stream",
     "text": [
      "\n",
      "* \n",
      "* * \n",
      "* * * \n",
      "* * * * \n",
      "* * * * * \n",
      "* * * * \n",
      "* * * \n",
      "* * \n",
      "* \n"
     ]
    }
   ],
   "source": [
    "n=5;                  # Q 6\n",
    "for i in range(n):\n",
    "    for j in range(i):\n",
    "        print ('* ', end=\"\")\n",
    "    print('')\n",
    "\n",
    "for i in range(n,0,-1):\n",
    "    for j in range(i):\n",
    "        print('* ', end=\"\")\n",
    "    print('')"
   ]
  },
  {
   "cell_type": "code",
   "execution_count": 5,
   "id": "3945e74e",
   "metadata": {},
   "outputs": [
    {
     "name": "stdout",
     "output_type": "stream",
     "text": [
      "Enter the value of 'n': 5\n",
      "Fibonacci Series:  0 1 1 2 3 "
     ]
    }
   ],
   "source": [
    "n = int(input(\"Enter the value of 'n': \"))\n",
    "a = 0\n",
    "b = 1\n",
    "sum = 0\n",
    "count = 1\n",
    "print(\"Fibonacci Series: \", end = \" \")\n",
    "while(count <= n):\n",
    "    print(sum, end = \" \")\n",
    "    count += 1\n",
    "    a = b\n",
    "    b = sum\n",
    "    sum = a + b"
   ]
  },
  {
   "cell_type": "code",
   "execution_count": null,
   "id": "9ae6b5f8",
   "metadata": {},
   "outputs": [],
   "source": []
  }
 ],
 "metadata": {
  "kernelspec": {
   "display_name": "Python 3",
   "language": "python",
   "name": "python3"
  },
  "language_info": {
   "codemirror_mode": {
    "name": "ipython",
    "version": 3
   },
   "file_extension": ".py",
   "mimetype": "text/x-python",
   "name": "python",
   "nbconvert_exporter": "python",
   "pygments_lexer": "ipython3",
   "version": "3.8.8"
  }
 },
 "nbformat": 4,
 "nbformat_minor": 5
}
